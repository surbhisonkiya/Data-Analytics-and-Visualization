{
 "cells": [
  {
   "cell_type": "markdown",
   "metadata": {},
   "source": [
    "**Import libraries and create Spark Session**"
   ]
  },
  {
   "cell_type": "code",
   "execution_count": 68,
   "metadata": {},
   "outputs": [],
   "source": [
    "import findspark \n",
    "findspark.init('/home/surbhi/Downloads/spark-2.2.0-bin-hadoop2.7')\n",
    "\n",
    "from pyspark.sql import SparkSession\n",
    "from pyspark.sql.functions import format_number\n",
    "from pyspark.sql.functions import (dayofmonth, hour,\n",
    "                                   dayofyear, month,\n",
    "                                   year, weekofyear,\n",
    "                                  format_number, date_format)\n",
    "\n",
    "spark = SparkSession.builder.master(\"local\").appName(\"microsoft\").config(\"spark.executor.memory\", \"3g\").getOrCreate()"
   ]
  },
  {
   "cell_type": "code",
   "execution_count": 69,
   "metadata": {},
   "outputs": [],
   "source": [
    "df = spark.read.csv('microsoftNew.csv', inferSchema=True, header=True)"
   ]
  },
  {
   "cell_type": "markdown",
   "metadata": {},
   "source": [
    "**What are the column names?**"
   ]
  },
  {
   "cell_type": "code",
   "execution_count": 70,
   "metadata": {},
   "outputs": [
    {
     "data": {
      "text/plain": [
       "['Date', 'Open', 'High', 'Low', 'Close', 'Volume', 'Adj Close']"
      ]
     },
     "execution_count": 70,
     "metadata": {},
     "output_type": "execute_result"
    }
   ],
   "source": [
    "df.columns"
   ]
  },
  {
   "cell_type": "markdown",
   "metadata": {},
   "source": [
    "**What does the Schema look like?**"
   ]
  },
  {
   "cell_type": "code",
   "execution_count": 71,
   "metadata": {},
   "outputs": [
    {
     "name": "stdout",
     "output_type": "stream",
     "text": [
      "root\n",
      " |-- Date: timestamp (nullable = true)\n",
      " |-- Open: double (nullable = true)\n",
      " |-- High: double (nullable = true)\n",
      " |-- Low: double (nullable = true)\n",
      " |-- Close: double (nullable = true)\n",
      " |-- Volume: integer (nullable = true)\n",
      " |-- Adj Close: double (nullable = true)\n",
      "\n"
     ]
    }
   ],
   "source": [
    "df.printSchema()"
   ]
  },
  {
   "cell_type": "markdown",
   "metadata": {},
   "source": [
    "**Print out the first 5 columns.**"
   ]
  },
  {
   "cell_type": "code",
   "execution_count": 72,
   "metadata": {},
   "outputs": [
    {
     "name": "stdout",
     "output_type": "stream",
     "text": [
      "Row(Date=datetime.datetime(2018, 10, 30, 0, 0), Open=103.660004, High=104.379997, Low=100.110001, Close=103.730003, Volume=65350900, Adj Close=103.730003) \n",
      "\n",
      "Row(Date=datetime.datetime(2018, 10, 29, 0, 0), Open=108.110001, High=108.699997, Low=101.629997, Close=103.849998, Volume=55162000, Adj Close=103.849998) \n",
      "\n",
      "Row(Date=datetime.datetime(2018, 10, 26, 0, 0), Open=105.690002, High=108.75, Low=104.760002, Close=106.959999, Volume=55523100, Adj Close=106.959999) \n",
      "\n",
      "Row(Date=datetime.datetime(2018, 10, 25, 0, 0), Open=106.550003, High=109.269997, Low=106.150002, Close=108.300003, Volume=61646800, Adj Close=108.300003) \n",
      "\n",
      "Row(Date=datetime.datetime(2018, 10, 24, 0, 0), Open=108.410004, High=108.489998, Low=101.589996, Close=102.32, Volume=63897800, Adj Close=102.32) \n",
      "\n"
     ]
    }
   ],
   "source": [
    "for line in df.head(5):\n",
    "    print(line, '\\n')"
   ]
  },
  {
   "cell_type": "markdown",
   "metadata": {},
   "source": [
    "**Use describe function to learn about the DataFrame.**"
   ]
  },
  {
   "cell_type": "code",
   "execution_count": 73,
   "metadata": {},
   "outputs": [
    {
     "name": "stdout",
     "output_type": "stream",
     "text": [
      "+-------+------------------+-----------------+-----------------+------------------+--------------------+------------------+\n",
      "|summary|              Open|             High|              Low|             Close|              Volume|         Adj Close|\n",
      "+-------+------------------+-----------------+-----------------+------------------+--------------------+------------------+\n",
      "|  count|              4738|             4738|             4738|              4738|                4738|              4738|\n",
      "|   mean|37.026357026593516|37.41019501477407|36.64333786196699| 37.02922352195016|5.7082246707471505E7|31.650932395947663|\n",
      "| stddev|18.635902942222035|18.75697105849408| 18.4835945869743|18.632471980918663|3.1630636929271787E7|20.173438768548856|\n",
      "|    min|              15.2|            15.62|            14.87|             15.15|             7425600|         11.956082|\n",
      "|    max|        115.419998|           116.18|           114.93|        115.610001|           591052200|        115.610001|\n",
      "+-------+------------------+-----------------+-----------------+------------------+--------------------+------------------+\n",
      "\n"
     ]
    }
   ],
   "source": [
    "df.describe().show()"
   ]
  },
  {
   "cell_type": "markdown",
   "metadata": {},
   "source": [
    "**Formatting the column values to limit the values to show up to two decimal places.**"
   ]
  },
  {
   "cell_type": "code",
   "execution_count": 74,
   "metadata": {},
   "outputs": [
    {
     "name": "stdout",
     "output_type": "stream",
     "text": [
      "+-------+--------+--------+--------+--------+-----------+\n",
      "|summary|    Open|    High|     Low|   Close|     Volume|\n",
      "+-------+--------+--------+--------+--------+-----------+\n",
      "|  count|4,738.00|4,738.00|4,738.00|4,738.00|      4,738|\n",
      "|   mean|   37.03|   37.41|   36.64|   37.03|       null|\n",
      "| stddev|   18.64|   18.76|   18.48|   18.63|       null|\n",
      "|    min|   15.20|   15.62|   14.87|   15.15|  7,425,600|\n",
      "|    max|  115.42|  116.18|  114.93|  115.61|591,052,200|\n",
      "+-------+--------+--------+--------+--------+-----------+\n",
      "\n"
     ]
    }
   ],
   "source": [
    "summary = df.describe()\n",
    "summary.select(summary['summary'],\n",
    "                  format_number(summary['Open'].cast('float'), 2).alias('Open'),\n",
    "                  format_number(summary['High'].cast('float'), 2).alias('High'),\n",
    "                  format_number(summary['Low'].cast('float'), 2).alias('Low'),\n",
    "                  format_number(summary['Close'].cast('float'), 2).alias('Close'),\n",
    "                  format_number(summary['Volume'].cast('int'),0).alias('Volume')\n",
    "                 ).show()\n",
    "\n"
   ]
  },
  {
   "cell_type": "markdown",
   "metadata": {},
   "source": [
    "**Feature Engineering: Create a new dataframe by adding a new feature called HV Ratio i.e. the ratio of the High Price versus volume of stock traded for a day.**"
   ]
  },
  {
   "cell_type": "code",
   "execution_count": 75,
   "metadata": {},
   "outputs": [
    {
     "name": "stdout",
     "output_type": "stream",
     "text": [
      "+--------------------+\n",
      "|            HV Ratio|\n",
      "+--------------------+\n",
      "|1.597223557747483...|\n",
      "|1.970559388709618...|\n",
      "|1.958644239964987...|\n",
      "|1.772516935185605...|\n",
      "|1.697867500915524...|\n",
      "|2.489582023467914...|\n",
      "|4.164155302573685E-6|\n",
      "|3.381372893504750...|\n",
      "|3.400274378426269...|\n",
      "|4.211584890877724E-6|\n",
      "|3.524495384401237...|\n",
      "|3.413984707544257E-6|\n",
      "|2.330018956015759...|\n",
      "|1.704580129975604...|\n",
      "|1.816662131800059...|\n",
      "|4.316261250601177E-6|\n",
      "|3.779613064512864E-6|\n",
      "|3.893164103216841E-6|\n",
      "|3.295646163168369E-6|\n",
      "|6.978616049975974E-6|\n",
      "+--------------------+\n",
      "only showing top 20 rows\n",
      "\n"
     ]
    }
   ],
   "source": [
    "df_hv = df.withColumn('HV Ratio', df['High']/df['Volume']).select(['HV Ratio'])\n",
    "df_hv.show()"
   ]
  },
  {
   "cell_type": "markdown",
   "metadata": {},
   "source": [
    "**What day had the peak High in Price?**"
   ]
  },
  {
   "cell_type": "code",
   "execution_count": 76,
   "metadata": {},
   "outputs": [
    {
     "data": {
      "text/plain": [
       "datetime.datetime(2018, 10, 3, 0, 0)"
      ]
     },
     "execution_count": 76,
     "metadata": {},
     "output_type": "execute_result"
    }
   ],
   "source": [
    "df.orderBy(df['High'].desc()).select(['Date']).head(1)[0]['Date']"
   ]
  },
  {
   "cell_type": "markdown",
   "metadata": {},
   "source": [
    "**What is the mean of the Close column?**"
   ]
  },
  {
   "cell_type": "code",
   "execution_count": 77,
   "metadata": {},
   "outputs": [
    {
     "name": "stdout",
     "output_type": "stream",
     "text": [
      "+-----------------+\n",
      "|       avg(Close)|\n",
      "+-----------------+\n",
      "|37.02922352195016|\n",
      "+-----------------+\n",
      "\n"
     ]
    }
   ],
   "source": [
    "from pyspark.sql.functions import mean\n",
    "\n",
    "df.select(mean('Close')).show()"
   ]
  },
  {
   "cell_type": "markdown",
   "metadata": {},
   "source": [
    "**What is the max and min of the Volume column?**"
   ]
  },
  {
   "cell_type": "code",
   "execution_count": 78,
   "metadata": {},
   "outputs": [
    {
     "name": "stdout",
     "output_type": "stream",
     "text": [
      "+-----------+-----------+\n",
      "|max(Volume)|min(Volume)|\n",
      "+-----------+-----------+\n",
      "|  591052200|    7425600|\n",
      "+-----------+-----------+\n",
      "\n"
     ]
    }
   ],
   "source": [
    "from pyspark.sql.functions import min, max\n",
    "\n",
    "df.select(max('Volume'),min('Volume')).show()"
   ]
  },
  {
   "cell_type": "markdown",
   "metadata": {},
   "source": [
    "**How many days was the closing lower than avg. value of Close?**"
   ]
  },
  {
   "cell_type": "code",
   "execution_count": 79,
   "metadata": {},
   "outputs": [
    {
     "data": {
      "text/plain": [
       "3414"
      ]
     },
     "execution_count": 79,
     "metadata": {},
     "output_type": "execute_result"
    }
   ],
   "source": [
    "df.filter(df['Close'] < 37.02922352195016).count()"
   ]
  },
  {
   "cell_type": "markdown",
   "metadata": {},
   "source": [
    "**What percentage of the time was the High greater than threshold?**"
   ]
  },
  {
   "cell_type": "code",
   "execution_count": 99,
   "metadata": {},
   "outputs": [
    {
     "data": {
      "text/plain": [
       "27.226677923174336"
      ]
     },
     "execution_count": 99,
     "metadata": {},
     "output_type": "execute_result"
    }
   ],
   "source": [
    "df.filter('High > 38').count() * 100/df.count()"
   ]
  },
  {
   "cell_type": "markdown",
   "metadata": {},
   "source": [
    "**What is the Pearson correlation between High and Volume?**"
   ]
  },
  {
   "cell_type": "code",
   "execution_count": 81,
   "metadata": {},
   "outputs": [
    {
     "data": {
      "text/plain": [
       "-0.424408321291648"
      ]
     },
     "execution_count": 81,
     "metadata": {},
     "output_type": "execute_result"
    }
   ],
   "source": [
    "df.corr('High', 'Volume')"
   ]
  },
  {
   "cell_type": "markdown",
   "metadata": {},
   "source": [
    "**What is the max High per year?**"
   ]
  },
  {
   "cell_type": "code",
   "execution_count": 82,
   "metadata": {},
   "outputs": [
    {
     "name": "stdout",
     "output_type": "stream",
     "text": [
      "+----+---------+\n",
      "|Year|max(High)|\n",
      "+----+---------+\n",
      "|2003|     30.0|\n",
      "|2007|     37.5|\n",
      "|2018|   116.18|\n",
      "|2015|56.849998|\n",
      "|2006|    30.26|\n",
      "|2013|    38.98|\n",
      "|2014|50.049999|\n",
      "|2004|30.200001|\n",
      "|2012|32.950001|\n",
      "|2009|     31.5|\n",
      "|2016|64.099998|\n",
      "|2001|38.075001|\n",
      "|2005|    28.25|\n",
      "|2000|  59.3125|\n",
      "|2010|    31.58|\n",
      "|2011|29.459999|\n",
      "|2008|35.959999|\n",
      "|2017|     87.5|\n",
      "|2002|35.310001|\n",
      "+----+---------+\n",
      "\n"
     ]
    }
   ],
   "source": [
    "from pyspark.sql.functions import (dayofmonth, hour,\n",
    "                                   dayofyear, month,\n",
    "                                   year, weekofyear,\n",
    "                                  format_number, date_format)\n",
    "\n",
    "year_df = df.withColumn('Year', year(df['Date']))\n",
    "#year_df.show(n=500)\n",
    "year_new_df = year_df.groupBy('Year').max()['Year', 'max(High)']\n",
    "year_new_df.show()\n",
    "\n",
    "#all the years in the dataset\n",
    "#year_new_df.coalesce(1).write.option(\"header\", \"false\").csv(\"year.csv\")"
   ]
  },
  {
   "cell_type": "markdown",
   "metadata": {},
   "source": [
    "**What is the average Close for each Calendar Month? I.e. across all the years, what is the average Close price for Jan, Feb, Mar, etc.**"
   ]
  },
  {
   "cell_type": "code",
   "execution_count": 83,
   "metadata": {},
   "outputs": [
    {
     "name": "stdout",
     "output_type": "stream",
     "text": [
      "+-----+------------------+\n",
      "|Month|        avg(Close)|\n",
      "+-----+------------------+\n",
      "|    1|37.235892825974005|\n",
      "|    2|36.358448646575326|\n",
      "|    3|36.361752183132545|\n",
      "|    4| 36.40331635714283|\n",
      "|    5| 36.83652537376236|\n",
      "|    6| 37.03310339901478|\n",
      "|    7| 37.53589384999999|\n",
      "|    8| 38.04809403073286|\n",
      "|    9| 37.73058580628271|\n",
      "|   10|38.300537064439126|\n",
      "|   11| 36.30581183423913|\n",
      "|   12|35.962892548812654|\n",
      "+-----+------------------+\n",
      "\n"
     ]
    }
   ],
   "source": [
    "import pandas as pd\n",
    "#All the months from all the years in the dataset\n",
    "#Create a new column Month from existing Date column\n",
    "month_df = df.withColumn('Month', month(df['Date']))\n",
    "#month_df.show(n=500)\n",
    "#Group by month and take average of all other columns\n",
    "month1_df = month_df.groupBy('Month').mean()\n",
    "\n",
    "#Sort by month\n",
    "month1_df = month1_df.orderBy('Month')\n",
    "\n",
    "#Display only month and avg(Close), the desired columns\n",
    "month_new_df = month1_df['Month', 'avg(Close)']\n",
    "month_new_df.show()"
   ]
  },
  {
   "cell_type": "markdown",
   "metadata": {},
   "source": [
    "**What is the max High for each Calendar Month? I.e. across all the years, what is the average Close price for Jan, Feb, Mar, etc.**"
   ]
  },
  {
   "cell_type": "code",
   "execution_count": 84,
   "metadata": {},
   "outputs": [
    {
     "name": "stdout",
     "output_type": "stream",
     "text": [
      "+-----+----------+\n",
      "|Month| max(High)|\n",
      "+-----+----------+\n",
      "|   12|      87.5|\n",
      "|    1| 95.449997|\n",
      "|    6|102.690002|\n",
      "|    3| 97.239998|\n",
      "|    5| 99.989998|\n",
      "|    9|115.290001|\n",
      "|    4| 97.900002|\n",
      "|    8|112.779999|\n",
      "|    7|111.150002|\n",
      "|   10|    116.18|\n",
      "|   11| 85.059998|\n",
      "|    2|     96.07|\n",
      "+-----+----------+\n",
      "\n"
     ]
    }
   ],
   "source": [
    "#Max high in a month\n",
    "month_new1_df = month_df.groupBy('Month').max()['Month', 'max(High)']\n",
    "month_new1_df.show()\n",
    "\n",
    "#month_new1_df.coalesce(1).write.option(\"header\", \"false\").csv(\"month.csv\")"
   ]
  },
  {
   "cell_type": "markdown",
   "metadata": {},
   "source": [
    "**SparkSQL**"
   ]
  },
  {
   "cell_type": "code",
   "execution_count": 89,
   "metadata": {},
   "outputs": [
    {
     "name": "stdout",
     "output_type": "stream",
     "text": [
      "+-------------------+----------+----------+----------+----------+--------+----------+\n",
      "|               Date|      Open|      High|       Low|     Close|  Volume| Adj Close|\n",
      "+-------------------+----------+----------+----------+----------+--------+----------+\n",
      "|2018-10-30 00:00:00|103.660004|104.379997|100.110001|103.730003|65350900|103.730003|\n",
      "|2018-10-29 00:00:00|108.110001|108.699997|101.629997|103.849998|55162000|103.849998|\n",
      "|2018-10-26 00:00:00|105.690002|    108.75|104.760002|106.959999|55523100|106.959999|\n",
      "|2018-10-25 00:00:00|106.550003|109.269997|106.150002|108.300003|61646800|108.300003|\n",
      "|2018-10-24 00:00:00|108.410004|108.489998|101.589996|    102.32|63897800|    102.32|\n",
      "|2018-10-23 00:00:00|107.769997|108.970001|105.110001|108.099998|43770400|108.099998|\n",
      "|2018-10-22 00:00:00|    109.32|110.540001|108.239998|109.629997|26545600|109.629997|\n",
      "|2018-10-19 00:00:00|    108.93|110.860001|108.209999|108.660004|32785500|108.660004|\n",
      "|2018-10-18 00:00:00|110.099998|110.529999|107.830002|     108.5|32506200|     108.5|\n",
      "|2018-10-17 00:00:00|    111.68|111.809998|109.550003|110.709999|26548200|110.709999|\n",
      "|2018-10-16 00:00:00|109.540001|111.410004|108.949997|     111.0|31610200|     111.0|\n",
      "|2018-10-15 00:00:00|108.910004|109.480003|106.949997|107.599998|32068100|107.599998|\n",
      "|2018-10-12 00:00:00|109.010002|111.239998|107.120003|    109.57|47742100|    109.57|\n",
      "|2018-10-11 00:00:00|105.349998|    108.93|104.199997|105.910004|63904300|105.910004|\n",
      "|2018-10-10 00:00:00|111.239998|     111.5|105.790001|106.160004|61376300|106.160004|\n",
      "|2018-10-09 00:00:00|111.139999|113.080002|110.800003|112.260002|26198600|112.260002|\n",
      "|2018-10-08 00:00:00|111.660004|112.029999|109.339996|110.849998|29640600|110.849998|\n",
      "|2018-10-05 00:00:00|112.629997|113.169998|110.639999|112.129997|29068900|112.129997|\n",
      "|2018-10-04 00:00:00|114.610001|114.760002|111.629997|112.790001|34821700|112.790001|\n",
      "|2018-10-03 00:00:00|115.419998|    116.18|    114.93|115.169998|16648000|115.169998|\n",
      "+-------------------+----------+----------+----------+----------+--------+----------+\n",
      "only showing top 20 rows\n",
      "\n"
     ]
    }
   ],
   "source": [
    "df.createOrReplaceTempView(\"stock\")\n",
    "sqlStock = spark.sql(\"SELECT * FROM stock\")\n",
    "sqlStock.show()"
   ]
  },
  {
   "cell_type": "code",
   "execution_count": 90,
   "metadata": {},
   "outputs": [
    {
     "name": "stdout",
     "output_type": "stream",
     "text": [
      "+-------------------+----------+----------+----------+----------+--------+----------+\n",
      "|               Date|      Open|      High|       Low|     Close|  Volume| Adj Close|\n",
      "+-------------------+----------+----------+----------+----------+--------+----------+\n",
      "|2018-10-30 00:00:00|103.660004|104.379997|100.110001|103.730003|65350900|103.730003|\n",
      "+-------------------+----------+----------+----------+----------+--------+----------+\n",
      "\n"
     ]
    }
   ],
   "source": [
    "sqlStock = spark.sql(\"SELECT * FROM stock WHERE Date = '2018-10-30 00:00:00'\")\n",
    "sqlStock.show()"
   ]
  },
  {
   "cell_type": "markdown",
   "metadata": {},
   "source": [
    "**What are the column names and what does the Schema look like?**"
   ]
  },
  {
   "cell_type": "code",
   "execution_count": 91,
   "metadata": {},
   "outputs": [
    {
     "data": {
      "text/plain": [
       "DataFrame[Date: timestamp, Open: double, High: double, Low: double, Close: double, Volume: int, Adj Close: double]"
      ]
     },
     "execution_count": 91,
     "metadata": {},
     "output_type": "execute_result"
    }
   ],
   "source": [
    "spark.sql(\"SELECT * FROM stock\")"
   ]
  },
  {
   "cell_type": "markdown",
   "metadata": {},
   "source": [
    "**What was the peak high and which date had the peak high in Price?**"
   ]
  },
  {
   "cell_type": "code",
   "execution_count": 97,
   "metadata": {},
   "outputs": [
    {
     "name": "stdout",
     "output_type": "stream",
     "text": [
      "+---------+\n",
      "|max(High)|\n",
      "+---------+\n",
      "|   116.18|\n",
      "+---------+\n",
      "\n",
      "+-------------------+----------+------+------+----------+--------+----------+\n",
      "|               Date|      Open|  High|   Low|     Close|  Volume| Adj Close|\n",
      "+-------------------+----------+------+------+----------+--------+----------+\n",
      "|2018-10-03 00:00:00|115.419998|116.18|114.93|115.169998|16648000|115.169998|\n",
      "+-------------------+----------+------+------+----------+--------+----------+\n",
      "\n"
     ]
    }
   ],
   "source": [
    "spark.sql(\"SELECT max(High) FROM stock\").show()\n",
    "spark.sql(\"SELECT * FROM stock WHERE High = 116.18\").show()"
   ]
  },
  {
   "cell_type": "code",
   "execution_count": 93,
   "metadata": {},
   "outputs": [
    {
     "name": "stdout",
     "output_type": "stream",
     "text": [
      "+-----------------+\n",
      "|       avg(Close)|\n",
      "+-----------------+\n",
      "|37.02922352195016|\n",
      "+-----------------+\n",
      "\n"
     ]
    }
   ],
   "source": [
    "sqlStock = spark.sql(\"SELECT avg(Close) FROM stock\")\n",
    "sqlStock.show()"
   ]
  },
  {
   "cell_type": "code",
   "execution_count": 94,
   "metadata": {},
   "outputs": [
    {
     "name": "stdout",
     "output_type": "stream",
     "text": [
      "+-----------+-----------+\n",
      "|max(Volume)|min(Volume)|\n",
      "+-----------+-----------+\n",
      "|  591052200|    7425600|\n",
      "+-----------+-----------+\n",
      "\n"
     ]
    }
   ],
   "source": [
    "sqlStock = spark.sql(\"SELECT max(Volume),min(Volume) FROM stock\")\n",
    "sqlStock.show()"
   ]
  },
  {
   "cell_type": "code",
   "execution_count": 95,
   "metadata": {},
   "outputs": [
    {
     "name": "stdout",
     "output_type": "stream",
     "text": [
      "+----+\n",
      "|Days|\n",
      "+----+\n",
      "|3414|\n",
      "+----+\n",
      "\n"
     ]
    }
   ],
   "source": [
    "sqlStock = spark.sql(\"SELECT COUNT(*) Days FROM stock WHERE Close < 37.02922352195016\")\n",
    "sqlStock.show()"
   ]
  },
  {
   "cell_type": "code",
   "execution_count": 71,
   "metadata": {},
   "outputs": [],
   "source": [
    "#import pandas as pd\n",
    "#import matplotlib.pyplot as plt \n",
    "#df = pd.read_csv('microsoftNew.csv')\n",
    "#df_original = df.copy() # Copy to have a version of df without modifications\n",
    "#df.head()\n",
    "\n",
    "#df.hist(figsize=(10,10))\n",
    "#plt.show()"
   ]
  },
  {
   "cell_type": "markdown",
   "metadata": {},
   "source": [
    "**Visualization**"
   ]
  },
  {
   "cell_type": "code",
   "execution_count": 68,
   "metadata": {},
   "outputs": [
    {
     "data": {
      "image/png": "[encoded data removed]",
      "text/plain": [
       "<Figure size 432x288 with 1 Axes>"
      ]
     },
     "metadata": {
      "needs_background": "light"
     },
     "output_type": "display_data"
    }
   ],
   "source": [
    "from __future__ import print_function\n",
    "from matplotlib.dates import strpdate2num\n",
    "import numpy as np\n",
    "from pylab import figure, show\n",
    "import matplotlib.cbook as cbook\n",
    "\n",
    "def bytespdate2num(fmt, encoding='utf-8'):\n",
    "    strconverter = strpdate2num(fmt)\n",
    "    def bytesconverter(b):\n",
    "        s = b.decode(encoding)\n",
    "        return strconverter(s)\n",
    "    return bytesconverter\n",
    "\n",
    "\n",
    "#datafile = cbook.get_sample_data('/home/surbhi/Downloads/sitc-master/microsoftNew.csv', asfileobj=False)\n",
    "datafile = cbook.get_sample_data('/home/surbhi/Downloads/sitc-master/year.csv/yearFloat.csv', asfileobj=False)\n",
    "#print('loading', datafile)\n",
    "\n",
    "dates, closes = np.loadtxt(\n",
    "    datafile, delimiter=',',\n",
    "    converters={0:bytespdate2num('%Y')}, #'%Y-%m-%d'\n",
    "    skiprows=0, usecols=(0,1), unpack=True) #skiprows=1, usecols=(0,2), unpack=True) \n",
    "\n",
    "fig = figure()\n",
    "ax = fig.add_subplot(111)\n",
    "ax.plot_date(dates, closes, '*')\n",
    "ax.set_xlabel('Year')\n",
    "ax.set_ylabel('Microsoft Price')\n",
    "ax.set_title('Price Graph')\n",
    "fig.autofmt_xdate()"
   ]
  },
  {
   "cell_type": "code",
   "execution_count": null,
   "metadata": {},
   "outputs": [],
   "source": []
  }
 ],
 "metadata": {
  "kernelspec": {
   "display_name": "Python 3",
   "language": "python",
   "name": "python3"
  },
  "language_info": {
   "codemirror_mode": {
    "name": "ipython",
    "version": 3
   },
   "file_extension": ".py",
   "mimetype": "text/x-python",
   "name": "python",
   "nbconvert_exporter": "python",
   "pygments_lexer": "ipython3",
   "version": "3.7.0"
  }
 },
 "nbformat": 4,
 "nbformat_minor": 2
}
